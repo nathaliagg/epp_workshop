{
 "cells": [
  {
   "cell_type": "markdown",
   "metadata": {
    "hideCode": false,
    "hidePrompt": false
   },
   "source": [
    "## Afternoon Session\n",
    "### Afternoon quote: \"Every expert was once a beginner\" Helen Hayes\n",
    "During this session we will go trough a series of real life exercises that you can be exposed during your researcher's life. Nowadays we are bombarded with big data from all places. We will start with a very basic and widely known tool called BLAST. You can learn more about blast [here](https://blast.ncbi.nlm.nih.gov/Blast.cgi)"
   ]
  },
  {
   "cell_type": "markdown",
   "metadata": {},
   "source": [
    "1. Login to your cowboy account and let's make sure you are in the correct directory. You should see a path that starts with /scracth/username/epp_workshop"
   ]
  },
  {
   "cell_type": "code",
   "execution_count": 2,
   "metadata": {
    "hideCode": false,
    "hidePrompt": true,
    "scrolled": true
   },
   "outputs": [
    {
     "name": "stdout",
     "output_type": "stream",
     "text": [
      "/home/OSU/espindo/epp_workshop/afternoon\n"
     ]
    }
   ],
   "source": [
    "%%bash\n",
    "pwd\n"
   ]
  },
  {
   "cell_type": "markdown",
   "metadata": {},
   "source": [
    "If you are still inside the morning folder, move up one directory and change directory to afternoon"
   ]
  },
  {
   "cell_type": "code",
   "execution_count": 6,
   "metadata": {
    "hidePrompt": true
   },
   "outputs": [
    {
     "name": "stdout",
     "output_type": "stream",
     "text": [
      "/home/OSU/espindo/epp_workshop/afternoon\n"
     ]
    }
   ],
   "source": [
    "%%bash\n",
    "cd ../afternoon\n",
    "pwd"
   ]
  },
  {
   "cell_type": "markdown",
   "metadata": {},
   "source": [
    "2. Once you are in the afternoon folder you should be able to see a "
   ]
  }
 ],
 "metadata": {
  "celltoolbar": "Hide code",
  "hide_code_all_hidden": false,
  "kernelspec": {
   "display_name": "Python 3",
   "language": "python",
   "name": "python3"
  },
  "language_info": {
   "codemirror_mode": {
    "name": "ipython",
    "version": 3
   },
   "file_extension": ".py",
   "mimetype": "text/x-python",
   "name": "python",
   "nbconvert_exporter": "python",
   "pygments_lexer": "ipython3",
   "version": "3.6.4"
  }
 },
 "nbformat": 4,
 "nbformat_minor": 2
}
