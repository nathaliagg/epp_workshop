{
 "cells": [
  {
   "cell_type": "markdown",
   "metadata": {},
   "source": [
    "## Afternoon Session\n",
    "### Afternoon quote: \"Every expert was once a beginner\" Helen Hayes\n",
    "During this session we will go trough a series of real life exercises that you can be exposed during your student and researcher's life. Nowadays we are bombarded with big data from all places. We will start with a very basic and widely known tool called BLAST. You can learn more about blast [here](https://blast.ncbi.nlm.nih.gov/Blast.cgi)"
   ]
  },
  {
   "cell_type": "code",
   "execution_count": 6,
   "metadata": {},
   "outputs": [
    {
     "name": "stdout",
     "output_type": "stream",
     "text": [
      "/home/andrese52\n"
     ]
    }
   ],
   "source": [
    "%%bash\n",
    "cd\n",
    "pwd"
   ]
  }
 ],
 "metadata": {
  "kernelspec": {
   "display_name": "Python 3",
   "language": "python",
   "name": "python3"
  },
  "language_info": {
   "codemirror_mode": {
    "name": "ipython",
    "version": 3
   },
   "file_extension": ".py",
   "mimetype": "text/x-python",
   "name": "python",
   "nbconvert_exporter": "python",
   "pygments_lexer": "ipython3",
   "version": "3.6.4"
  }
 },
 "nbformat": 4,
 "nbformat_minor": 2
}
