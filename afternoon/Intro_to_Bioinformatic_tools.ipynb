{
 "cells": [
  {
   "cell_type": "markdown",
   "metadata": {
    "hideCode": false,
    "hidePrompt": false
   },
   "source": [
    "## Afternoon Session\n",
    "### Afternoon quote: \"Every expert was once a beginner\" Helen Hayes\n",
    "During this session we will go trough a series of real life exercises that you can be exposed during your student and researcher's life. Nowadays we are bombarded with big data from all places. We will start with a very basic and widely known tool called BLAST. You can learn more about blast [here](https://blast.ncbi.nlm.nih.gov/Blast.cgi)"
   ]
  },
  {
   "cell_type": "markdown",
   "metadata": {},
   "source": [
    "1. Login to your cowboy account and if you are already there let's make sure we are in the correct directory"
   ]
  },
  {
   "cell_type": "code",
   "execution_count": 13,
   "metadata": {
    "hideCode": false,
    "hidePrompt": true
   },
   "outputs": [
    {
     "name": "stdout",
     "output_type": "stream",
     "text": [
      "/home/andrese52/epp_workshop/afternoon\n"
     ]
    }
   ],
   "source": [
    "%%bash\n",
    "pwd\n",
    "cd /home/andrese52/epp_workshop/afternoon/"
   ]
  },
  {
   "cell_type": "code",
   "execution_count": 10,
   "metadata": {
    "hidePrompt": true
   },
   "outputs": [
    {
     "name": "stdout",
     "output_type": "stream",
     "text": [
      "/home/andrese52/epp_workshop/afternoon\n"
     ]
    }
   ],
   "source": [
    "%%bash\n",
    "pwd"
   ]
  },
  {
   "cell_type": "code",
   "execution_count": 14,
   "metadata": {
    "hideCode": true,
    "hideOutput": true,
    "hidePrompt": true
   },
   "outputs": [
    {
     "name": "stdout",
     "output_type": "stream",
     "text": [
      " 10:32:23 up 61 days, 16:09,  4 users,  load average: 0.03, 0.03, 0.00\n",
      "USER     TTY      FROM             LOGIN@   IDLE   JCPU   PCPU WHAT\n",
      "andrese5 tty7     :0               29Dec17 61days 46:38   0.98s /sbin/upstart --user\n",
      "andrese5 pts/19   139.78.154.200   10:18   13:35   0.06s  0.06s -bash\n",
      "andrese5 pts/22   139.78.155.191   10:21   10:47   0.06s  0.06s -bash\n",
      "andrese5 pts/23   139.78.154.200   10:31   28.00s  0.06s  0.06s -bash\n"
     ]
    }
   ],
   "source": [
    "%%bash\n",
    "cat <<'EOT' | ssh nimffab-andres /bin/bash\n",
    "w\n",
    "EOT"
   ]
  }
 ],
 "metadata": {
  "celltoolbar": "Hide code",
  "hide_code_all_hidden": false,
  "kernelspec": {
   "display_name": "Python 3",
   "language": "python",
   "name": "python3"
  },
  "language_info": {
   "codemirror_mode": {
    "name": "ipython",
    "version": 3
   },
   "file_extension": ".py",
   "mimetype": "text/x-python",
   "name": "python",
   "nbconvert_exporter": "python",
   "pygments_lexer": "ipython3",
   "version": "3.6.4"
  }
 },
 "nbformat": 4,
 "nbformat_minor": 2
}
