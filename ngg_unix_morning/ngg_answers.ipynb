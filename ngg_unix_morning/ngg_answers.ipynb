{
 "cells": [
  {
   "cell_type": "markdown",
   "metadata": {},
   "source": [
    "# Challenges - pipes:\n",
    "\n",
    "1. How many times \" ORF|Uncharacterize \" appears on the 2nd column?\n",
    "2. How many times \" pseudogene \" appears appears on the 2nd column?\n",
    "3. Does the 1st column list each gene name (those named 'AN###') only once?\n",
    "4. Which word appears 199 times on the 2nd column?"
   ]
  },
  {
   "cell_type": "markdown",
   "metadata": {},
   "source": [
    "# ANSWERS:"
   ]
  },
  {
   "cell_type": "markdown",
   "metadata": {},
   "source": [
    "### Question 1: How many times \" ORF|Uncharacterized \" appears on the 2nd column?"
   ]
  },
  {
   "cell_type": "code",
   "execution_count": 2,
   "metadata": {},
   "outputs": [
    {
     "name": "stdout",
     "output_type": "stream",
     "text": [
      "9312\r\n"
     ]
    }
   ],
   "source": [
    "cat output_A_nidulans_filtered_features.txt | sed '1,8d' | cut -f 2 | grep -c 'ORF|Uncharacterized'"
   ]
  },
  {
   "cell_type": "markdown",
   "metadata": {},
   "source": [
    "### Question 2: How many times \" pseudogene\" appears on the 2nd column?"
   ]
  },
  {
   "cell_type": "code",
   "execution_count": 4,
   "metadata": {},
   "outputs": [
    {
     "name": "stdout",
     "output_type": "stream",
     "text": [
      "58\r\n"
     ]
    }
   ],
   "source": [
    "cat output_A_nidulans_filtered_features.txt | sed '1,8d' | cut -f 2 | grep -c 'pseudogene'"
   ]
  },
  {
   "cell_type": "markdown",
   "metadata": {},
   "source": [
    "### Question 3: Does the 1st column list each gene name (those named 'AN###') only once?"
   ]
  },
  {
   "cell_type": "code",
   "execution_count": 10,
   "metadata": {},
   "outputs": [
    {
     "name": "stdout",
     "output_type": "stream",
     "text": [
      "10779\n"
     ]
    }
   ],
   "source": [
    "%%bash\n",
    "cat A_nidulans_FGSC_A4_current_chromosomal_feature.tab | sed '1,8d' | cut -f 1 | grep 'AN' -c"
   ]
  },
  {
   "cell_type": "code",
   "execution_count": 9,
   "metadata": {},
   "outputs": [
    {
     "name": "stdout",
     "output_type": "stream",
     "text": [
      "10779\n"
     ]
    }
   ],
   "source": [
    "%%bash\n",
    "cat A_nidulans_FGSC_A4_current_chromosomal_feature.tab | sed '1,8d' | cut -f -1 | sort | uniq | grep 'AN' -c"
   ]
  },
  {
   "cell_type": "markdown",
   "metadata": {},
   "source": [
    "        Why a single and straight 'wc -l ' won't work? \n",
    "        Did you tail? There are genes that do not start with 'AN'."
   ]
  },
  {
   "cell_type": "markdown",
   "metadata": {},
   "source": [
    "### Question 4: Which word appears 199 times on the 2nd column? TIP: check the uniq manual..."
   ]
  },
  {
   "cell_type": "code",
   "execution_count": 12,
   "metadata": {},
   "outputs": [
    {
     "name": "stdout",
     "output_type": "stream",
     "text": [
      " 189 ORF|Merged/Split|Uncharacterized\n",
      "   4 ORF|Merged/Split|Verified\n",
      "9235 ORF|Uncharacterized\n",
      "   1 ORF|Uncharacterized|Merged/Split\n",
      "  49 ORF|Uncharacterized|transposable element gene\n",
      "1209 ORF|Verified\n",
      "   1 multigene locus\n",
      "   1 ncRNA|Uncharacterized\n",
      "   1 ncRNA|Verified\n",
      "  55 pseudogene\n",
      "   2 pseudogene|Verified\n",
      "   1 pseudogene|transposable element gene\n",
      "   2 rRNA|Uncharacterized\n",
      " 199 tRNA|Uncharacterized\n",
      "   9 tRNA|Verified\n",
      "  27 uORF|Uncharacterized\n",
      "   4 uORF|Verified\n"
     ]
    }
   ],
   "source": [
    "%%bash\n",
    "cat output_A_nidulans_filtered_features.txt | sed '1,8d' | cut -f 2 | sort | uniq -c"
   ]
  },
  {
   "cell_type": "markdown",
   "metadata": {},
   "source": [
    "        tRNA|Uncharacterized"
   ]
  },
  {
   "cell_type": "markdown",
   "metadata": {},
   "source": [
    "# Challenge - for loop:\n",
    "\n",
    "Create a for loop that will execute the following on the A_nidulans and A_flavus genomes:\n",
    "\n",
    "1. Print the file name\n",
    "2. Print the number of fasta sequences followed by the word contigs\n",
    "3. Print all the fasta headers"
   ]
  },
  {
   "cell_type": "code",
   "execution_count": 2,
   "metadata": {},
   "outputs": [
    {
     "name": "stdout",
     "output_type": "stream",
     "text": [
      "A_flavus_NRRL_3357_chromosomes.fasta\n",
      "126 contigs\n",
      "\n",
      ">1041045516887_A_flavus_NRRL_3357 (3491 nucleotides)\n",
      ">1041045516889_A_flavus_NRRL_3357 (4170 nucleotides)\n",
      ">1041045516890_A_flavus_NRRL_3357 (20049 nucleotides)\n",
      ">1041045516891_A_flavus_NRRL_3357 (2076547 nucleotides)\n",
      ">1041045516892_A_flavus_NRRL_3357 (3256 nucleotides)\n",
      ">1041045516893_A_flavus_NRRL_3357 (2183 nucleotides)\n",
      ">1041045516894_A_flavus_NRRL_3357 (2614 nucleotides)\n",
      ">1041045516895_A_flavus_NRRL_3357 (2135 nucleotides)\n",
      ">1041045516896_A_flavus_NRRL_3357 (2529 nucleotides)\n",
      ">1041045516897_A_flavus_NRRL_3357 (2052 nucleotides)\n",
      ">1041045516898_A_flavus_NRRL_3357 (2187 nucleotides)\n",
      ">1041045516899_A_flavus_NRRL_3357 (2177 nucleotides)\n",
      ">1041045516900_A_flavus_NRRL_3357 (2275 nucleotides)\n",
      ">1041045516901_A_flavus_NRRL_3357 (2401 nucleotides)\n",
      ">1041045516902_A_flavus_NRRL_3357 (2719 nucleotides)\n",
      ">1041045516903_A_flavus_NRRL_3357 (2614 nucleotides)\n",
      ">1041045516904_A_flavus_NRRL_3357 (2598 nucleotides)\n",
      ">1041045516906_A_flavus_NRRL_3357 (2087 nucleotides)\n",
      ">1041045516908_A_flavus_NRRL_3357 (2056 nucleotides)\n",
      ">1041045516909_A_flavus_NRRL_3357 (3511 nucleotides)\n",
      ">1041045516910_A_flavus_NRRL_3357 (2166 nucleotides)\n",
      ">1041045516911_A_flavus_NRRL_3357 (2652 nucleotides)\n",
      ">1041045516912_A_flavus_NRRL_3357 (2118 nucleotides)\n",
      ">1041045516913_A_flavus_NRRL_3357 (2724 nucleotides)\n",
      ">1041045516914_A_flavus_NRRL_3357 (2187 nucleotides)\n",
      ">1041045516915_A_flavus_NRRL_3357 (2285 nucleotides)\n",
      ">1041045516916_A_flavus_NRRL_3357 (3279 nucleotides)\n",
      ">1041045516917_A_flavus_NRRL_3357 (2089 nucleotides)\n",
      ">1041045516918_A_flavus_NRRL_3357 (2140 nucleotides)\n",
      ">1041045516919_A_flavus_NRRL_3357 (2091 nucleotides)\n",
      ">1041045516920_A_flavus_NRRL_3357 (2075 nucleotides)\n",
      ">1041045516921_A_flavus_NRRL_3357 (2080 nucleotides)\n",
      ">1041045516922_A_flavus_NRRL_3357 (2229 nucleotides)\n",
      ">1041045516923_A_flavus_NRRL_3357 (2203 nucleotides)\n",
      ">1041045516925_A_flavus_NRRL_3357 (2251 nucleotides)\n",
      ">1041045516926_A_flavus_NRRL_3357 (2339 nucleotides)\n",
      ">1041045516927_A_flavus_NRRL_3357 (2345 nucleotides)\n",
      ">1041045516929_A_flavus_NRRL_3357 (2127 nucleotides)\n",
      ">1041045516930_A_flavus_NRRL_3357 (2148 nucleotides)\n",
      ">1041045516932_A_flavus_NRRL_3357 (2871 nucleotides)\n",
      ">1041045516933_A_flavus_NRRL_3357 (2279 nucleotides)\n",
      ">1041045516934_A_flavus_NRRL_3357 (2141 nucleotides)\n",
      ">1041045516935_A_flavus_NRRL_3357 (2729 nucleotides)\n",
      ">1041045516936_A_flavus_NRRL_3357 (2504 nucleotides)\n",
      ">1041045516937_A_flavus_NRRL_3357 (2030 nucleotides)\n",
      ">1041045516938_A_flavus_NRRL_3357 (2742 nucleotides)\n",
      ">1041045516939_A_flavus_NRRL_3357 (2046 nucleotides)\n",
      ">1041045516940_A_flavus_NRRL_3357 (2513 nucleotides)\n",
      ">1041045516941_A_flavus_NRRL_3357 (2315 nucleotides)\n",
      ">1041045516942_A_flavus_NRRL_3357 (2141 nucleotides)\n",
      ">1041045516943_A_flavus_NRRL_3357 (2192 nucleotides)\n",
      ">1041045516945_A_flavus_NRRL_3357 (2022 nucleotides)\n",
      ">1041045516946_A_flavus_NRRL_3357 (2623 nucleotides)\n",
      ">1041045516947_A_flavus_NRRL_3357 (2147 nucleotides)\n",
      ">1041045516948_A_flavus_NRRL_3357 (2011 nucleotides)\n",
      ">1041045516950_A_flavus_NRRL_3357 (2008 nucleotides)\n",
      ">1041045516951_A_flavus_NRRL_3357 (2131 nucleotides)\n",
      ">1041045516952_A_flavus_NRRL_3357 (2237 nucleotides)\n",
      ">1041045516953_A_flavus_NRRL_3357 (2148 nucleotides)\n",
      ">1041045516954_A_flavus_NRRL_3357 (2303 nucleotides)\n",
      ">1041045516956_A_flavus_NRRL_3357 (2208 nucleotides)\n",
      ">1041045516958_A_flavus_NRRL_3357 (2237 nucleotides)\n",
      ">1041045516960_A_flavus_NRRL_3357 (2174 nucleotides)\n",
      ">1041045516961_A_flavus_NRRL_3357 (2381 nucleotides)\n",
      ">1041045516962_A_flavus_NRRL_3357 (2116 nucleotides)\n",
      ">1041045516963_A_flavus_NRRL_3357 (2010 nucleotides)\n",
      ">1041045516964_A_flavus_NRRL_3357 (2065 nucleotides)\n",
      ">1041045516965_A_flavus_NRRL_3357 (2385 nucleotides)\n",
      ">1041045516966_A_flavus_NRRL_3357 (2156 nucleotides)\n",
      ">1041045516967_A_flavus_NRRL_3357 (2398 nucleotides)\n",
      ">1041045516968_A_flavus_NRRL_3357 (2009 nucleotides)\n",
      ">1041045516969_A_flavus_NRRL_3357 (2163 nucleotides)\n",
      ">1041045516970_A_flavus_NRRL_3357 (2035 nucleotides)\n",
      ">1041045516972_A_flavus_NRRL_3357 (3186 nucleotides)\n",
      ">1041045516973_A_flavus_NRRL_3357 (2639 nucleotides)\n",
      ">1041045516974_A_flavus_NRRL_3357 (2526 nucleotides)\n",
      ">1041045516975_A_flavus_NRRL_3357 (2113 nucleotides)\n",
      ">1041045516976_A_flavus_NRRL_3357 (2651 nucleotides)\n",
      ">1041045516977_A_flavus_NRRL_3357 (2315 nucleotides)\n",
      ">1041045516978_A_flavus_NRRL_3357 (2015 nucleotides)\n",
      ">1041045516979_A_flavus_NRRL_3357 (2414 nucleotides)\n",
      ">1041045516980_A_flavus_NRRL_3357 (2972 nucleotides)\n",
      ">1041045516981_A_flavus_NRRL_3357 (2723 nucleotides)\n",
      ">1041045516982_A_flavus_NRRL_3357 (2499 nucleotides)\n",
      ">1041045516983_A_flavus_NRRL_3357 (2036 nucleotides)\n",
      ">1041045516984_A_flavus_NRRL_3357 (3070 nucleotides)\n",
      ">1041045516985_A_flavus_NRRL_3357 (2746 nucleotides)\n",
      ">1041045516986_A_flavus_NRRL_3357 (2038 nucleotides)\n",
      ">1041045516987_A_flavus_NRRL_3357 (2144 nucleotides)\n",
      ">1041045516988_A_flavus_NRRL_3357 (2629 nucleotides)\n",
      ">1041045516989_A_flavus_NRRL_3357 (2235 nucleotides)\n",
      ">1041045516990_A_flavus_NRRL_3357 (2225 nucleotides)\n",
      ">1041045516991_A_flavus_NRRL_3357 (2085 nucleotides)\n",
      ">1041045516992_A_flavus_NRRL_3357 (2299 nucleotides)\n",
      ">1041045516994_A_flavus_NRRL_3357 (2270 nucleotides)\n",
      ">1041045516995_A_flavus_NRRL_3357 (3321 nucleotides)\n",
      ">1041045516996_A_flavus_NRRL_3357 (2606 nucleotides)\n",
      ">1041045516998_A_flavus_NRRL_3357 (2147 nucleotides)\n",
      ">1041045516999_A_flavus_NRRL_3357 (2128 nucleotides)\n",
      ">1041045517000_A_flavus_NRRL_3357 (2141 nucleotides)\n",
      ">1041045517001_A_flavus_NRRL_3357 (2286 nucleotides)\n",
      ">1041045517003_A_flavus_NRRL_3357 (2165 nucleotides)\n",
      ">1041045517004_A_flavus_NRRL_3357 (2302 nucleotides)\n",
      ">1041045517006_A_flavus_NRRL_3357 (2456 nucleotides)\n",
      ">1041045517007_A_flavus_NRRL_3357 (4592 nucleotides)\n",
      ">1041045517008_A_flavus_NRRL_3357 (350524 nucleotides)\n",
      ">1041045517009_A_flavus_NRRL_3357 (2713190 nucleotides)\n",
      ">1041045517010_A_flavus_NRRL_3357 (2040265 nucleotides)\n",
      ">1041045517011_A_flavus_NRRL_3357 (1807303 nucleotides)\n",
      ">1041045517012_A_flavus_NRRL_3357 (4149026 nucleotides)\n",
      ">1041045517013_A_flavus_NRRL_3357 (3804 nucleotides)\n",
      ">1041045517014_A_flavus_NRRL_3357 (2555871 nucleotides)\n",
      ">1041045517016_A_flavus_NRRL_3357 (3729 nucleotides)\n",
      ">1041045517017_A_flavus_NRRL_3357 (3617 nucleotides)\n",
      ">1041045517018_A_flavus_NRRL_3357 (3548 nucleotides)\n",
      ">1041045517019_A_flavus_NRRL_3357 (4850 nucleotides)\n",
      ">1041045517020_A_flavus_NRRL_3357 (2946 nucleotides)\n",
      ">1041045517021_A_flavus_NRRL_3357 (2388123 nucleotides)\n",
      ">1041045517022_A_flavus_NRRL_3357 (1793267 nucleotides)\n",
      ">1041045517023_A_flavus_NRRL_3357 (2658400 nucleotides)\n",
      ">1041045517024_A_flavus_NRRL_3357 (1296066 nucleotides)\n",
      ">1041045517025_A_flavus_NRRL_3357 (4469204 nucleotides)\n",
      ">1041045517026_A_flavus_NRRL_3357 (1947392 nucleotides)\n",
      ">1041045517027_A_flavus_NRRL_3357 (2337902 nucleotides)\n",
      ">1041045517028_A_flavus_NRRL_3357 (1872887 nucleotides)\n",
      ">1041045517029_A_flavus_NRRL_3357 (2012514 nucleotides)\n",
      "\n",
      "A_nidulans_FGSC_A4_current_chromosomes.fasta\n",
      "9 contigs\n",
      "\n",
      ">ChrIII_A_nidulans_FGSC_A4 (3470897 nucleotides)\n",
      ">ChrII_A_nidulans_FGSC_A4 (4070060 nucleotides)\n",
      ">ChrIV_A_nidulans_FGSC_A4 (2887738 nucleotides)\n",
      ">ChrI_A_nidulans_FGSC_A4 (3759208 nucleotides)\n",
      ">ChrVIII_A_nidulans_FGSC_A4 (4934093 nucleotides)\n",
      ">ChrVII_A_nidulans_FGSC_A4 (4550218 nucleotides)\n",
      ">ChrVI_A_nidulans_FGSC_A4 (3407944 nucleotides)\n",
      ">ChrV_A_nidulans_FGSC_A4 (3403833 nucleotides)\n",
      ">mito_A_nidulans_FGSC_A4 (33227 nucleotides)\n",
      "\n"
     ]
    }
   ],
   "source": [
    "%%bash\n",
    "for file in A_*.fasta; do echo $file ; a=`grep -c '>' $file`; echo $a contigs; echo ; grep '>' $file; echo ; done"
   ]
  },
  {
   "cell_type": "raw",
   "metadata": {},
   "source": [
    "A_flavus_NRRL_3357_chromosomes.fasta\n",
    "126 contigs\n",
    "\n",
    ">1041045516887_A_flavus_NRRL_3357 (3491 nucleotides)\n",
    ">1041045516889_A_flavus_NRRL_3357 (4170 nucleotides)\n",
    ">1041045516890_A_flavus_NRRL_3357 (20049 nucleotides)\n",
    ">1041045516891_A_flavus_NRRL_3357 (2076547 nucleotides)\n",
    "(...)\n",
    "\n",
    "A_nidulans_FGSC_A4_current_chromosomes.fasta\n",
    "9 contigs\n",
    "\n",
    ">ChrIII_A_nidulans_FGSC_A4 (3470897 nucleotides)\n",
    ">ChrII_A_nidulans_FGSC_A4 (4070060 nucleotides)\n",
    ">ChrIV_A_nidulans_FGSC_A4 (2887738 nucleotides)\n",
    ">ChrI_A_nidulans_FGSC_A4 (3759208 nucleotides)\n",
    ">ChrVIII_A_nidulans_FGSC_A4 (4934093 nucleotides)\n",
    ">ChrVII_A_nidulans_FGSC_A4 (4550218 nucleotides)\n",
    ">ChrVI_A_nidulans_FGSC_A4 (3407944 nucleotides)\n",
    ">ChrV_A_nidulans_FGSC_A4 (3403833 nucleotides)\n",
    ">mito_A_nidulans_FGSC_A4 (33227 nucleotides)"
   ]
  },
  {
   "cell_type": "markdown",
   "metadata": {},
   "source": [
    "# BONUS\n",
    "\n",
    "Redirect output of a for loop:"
   ]
  },
  {
   "cell_type": "code",
   "execution_count": 3,
   "metadata": {},
   "outputs": [],
   "source": [
    "%%bash\n",
    "for file in A_*.fasta; do echo $file ; a=`grep -c '>' $file`; echo $a contigs; echo ; grep '>' $file; echo ; done > output_genomes_fasta_headers.txt"
   ]
  },
  {
   "cell_type": "code",
   "execution_count": 4,
   "metadata": {},
   "outputs": [
    {
     "name": "stdout",
     "output_type": "stream",
     "text": [
      "output_A_nidulans_fasta_headers.txt\r\n",
      "output_A_nidulans_filtered_features.txt\r\n",
      "output_genomes_fasta_headers.txt\r\n"
     ]
    }
   ],
   "source": [
    "ls output*.txt"
   ]
  },
  {
   "cell_type": "code",
   "execution_count": 5,
   "metadata": {},
   "outputs": [
    {
     "name": "stdout",
     "output_type": "stream",
     "text": [
      "A_flavus_NRRL_3357_chromosomes.fasta\r\n",
      "126 contigs\r\n",
      "\r\n",
      ">1041045516887_A_flavus_NRRL_3357 (3491 nucleotides)\r\n",
      ">1041045516889_A_flavus_NRRL_3357 (4170 nucleotides)\r\n",
      ">1041045516890_A_flavus_NRRL_3357 (20049 nucleotides)\r\n",
      ">1041045516891_A_flavus_NRRL_3357 (2076547 nucleotides)\r\n",
      ">1041045516892_A_flavus_NRRL_3357 (3256 nucleotides)\r\n",
      ">1041045516893_A_flavus_NRRL_3357 (2183 nucleotides)\r\n",
      ">1041045516894_A_flavus_NRRL_3357 (2614 nucleotides)\r\n",
      ">1041045516895_A_flavus_NRRL_3357 (2135 nucleotides)\r\n",
      ">1041045516896_A_flavus_NRRL_3357 (2529 nucleotides)\r\n",
      ">1041045516897_A_flavus_NRRL_3357 (2052 nucleotides)\r\n",
      ">1041045516898_A_flavus_NRRL_3357 (2187 nucleotides)\r\n",
      ">1041045516899_A_flavus_NRRL_3357 (2177 nucleotides)\r\n",
      ">1041045516900_A_flavus_NRRL_3357 (2275 nucleotides)\r\n",
      ">1041045516901_A_flavus_NRRL_3357 (2401 nucleotides)\r\n",
      ">1041045516902_A_flavus_NRRL_3357 (2719 nucleotides)\r\n",
      ">1041045516903_A_flavus_NRRL_3357 (2614 nucleotides)\r\n",
      ">1041045516904_A_flavus_NRRL_3357 (2598 nucleotides)\r\n",
      ">1041045516906_A_flavus_NRRL_3357 (2087 nucleotides)\r\n",
      ">1041045516908_A_flavus_NRRL_3357 (2056 nucleotides)\r\n",
      ">1041045516909_A_flavus_NRRL_3357 (3511 nucleotides)\r\n",
      ">1041045516910_A_flavus_NRRL_3357 (2166 nucleotides)\r\n",
      ">1041045516911_A_flavus_NRRL_3357 (2652 nucleotides)\r\n",
      ">1041045516912_A_flavus_NRRL_3357 (2118 nucleotides)\r\n",
      ">1041045516913_A_flavus_NRRL_3357 (2724 nucleotides)\r\n",
      ">1041045516914_A_flavus_NRRL_3357 (2187 nucleotides)\r\n",
      ">1041045516915_A_flavus_NRRL_3357 (2285 nucleotides)\r\n",
      ">1041045516916_A_flavus_NRRL_3357 (3279 nucleotides)\r\n",
      ">1041045516917_A_flavus_NRRL_3357 (2089 nucleotides)\r\n",
      ">1041045516918_A_flavus_NRRL_3357 (2140 nucleotides)\r\n",
      ">1041045516919_A_flavus_NRRL_3357 (2091 nucleotides)\r\n",
      ">1041045516920_A_flavus_NRRL_3357 (2075 nucleotides)\r\n",
      ">1041045516921_A_flavus_NRRL_3357 (2080 nucleotides)\r\n",
      ">1041045516922_A_flavus_NRRL_3357 (2229 nucleotides)\r\n",
      ">1041045516923_A_flavus_NRRL_3357 (2203 nucleotides)\r\n",
      ">1041045516925_A_flavus_NRRL_3357 (2251 nucleotides)\r\n",
      ">1041045516926_A_flavus_NRRL_3357 (2339 nucleotides)\r\n",
      ">1041045516927_A_flavus_NRRL_3357 (2345 nucleotides)\r\n",
      ">1041045516929_A_flavus_NRRL_3357 (2127 nucleotides)\r\n",
      ">1041045516930_A_flavus_NRRL_3357 (2148 nucleotides)\r\n",
      ">1041045516932_A_flavus_NRRL_3357 (2871 nucleotides)\r\n",
      ">1041045516933_A_flavus_NRRL_3357 (2279 nucleotides)\r\n",
      ">1041045516934_A_flavus_NRRL_3357 (2141 nucleotides)\r\n",
      ">1041045516935_A_flavus_NRRL_3357 (2729 nucleotides)\r\n",
      ">1041045516936_A_flavus_NRRL_3357 (2504 nucleotides)\r\n",
      ">1041045516937_A_flavus_NRRL_3357 (2030 nucleotides)\r\n",
      ">1041045516938_A_flavus_NRRL_3357 (2742 nucleotides)\r\n",
      ">1041045516939_A_flavus_NRRL_3357 (2046 nucleotides)\r\n",
      ">1041045516940_A_flavus_NRRL_3357 (2513 nucleotides)\r\n",
      ">1041045516941_A_flavus_NRRL_3357 (2315 nucleotides)\r\n",
      ">1041045516942_A_flavus_NRRL_3357 (2141 nucleotides)\r\n",
      ">1041045516943_A_flavus_NRRL_3357 (2192 nucleotides)\r\n",
      ">1041045516945_A_flavus_NRRL_3357 (2022 nucleotides)\r\n",
      ">1041045516946_A_flavus_NRRL_3357 (2623 nucleotides)\r\n",
      ">1041045516947_A_flavus_NRRL_3357 (2147 nucleotides)\r\n",
      ">1041045516948_A_flavus_NRRL_3357 (2011 nucleotides)\r\n",
      ">1041045516950_A_flavus_NRRL_3357 (2008 nucleotides)\r\n",
      ">1041045516951_A_flavus_NRRL_3357 (2131 nucleotides)\r\n",
      ">1041045516952_A_flavus_NRRL_3357 (2237 nucleotides)\r\n",
      ">1041045516953_A_flavus_NRRL_3357 (2148 nucleotides)\r\n",
      ">1041045516954_A_flavus_NRRL_3357 (2303 nucleotides)\r\n",
      ">1041045516956_A_flavus_NRRL_3357 (2208 nucleotides)\r\n",
      ">1041045516958_A_flavus_NRRL_3357 (2237 nucleotides)\r\n",
      ">1041045516960_A_flavus_NRRL_3357 (2174 nucleotides)\r\n",
      ">1041045516961_A_flavus_NRRL_3357 (2381 nucleotides)\r\n",
      ">1041045516962_A_flavus_NRRL_3357 (2116 nucleotides)\r\n",
      ">1041045516963_A_flavus_NRRL_3357 (2010 nucleotides)\r\n",
      ">1041045516964_A_flavus_NRRL_3357 (2065 nucleotides)\r\n",
      ">1041045516965_A_flavus_NRRL_3357 (2385 nucleotides)\r\n",
      ">1041045516966_A_flavus_NRRL_3357 (2156 nucleotides)\r\n",
      ">1041045516967_A_flavus_NRRL_3357 (2398 nucleotides)\r\n",
      ">1041045516968_A_flavus_NRRL_3357 (2009 nucleotides)\r\n",
      ">1041045516969_A_flavus_NRRL_3357 (2163 nucleotides)\r\n",
      ">1041045516970_A_flavus_NRRL_3357 (2035 nucleotides)\r\n",
      ">1041045516972_A_flavus_NRRL_3357 (3186 nucleotides)\r\n",
      ">1041045516973_A_flavus_NRRL_3357 (2639 nucleotides)\r\n",
      ">1041045516974_A_flavus_NRRL_3357 (2526 nucleotides)\r\n",
      ">1041045516975_A_flavus_NRRL_3357 (2113 nucleotides)\r\n",
      ">1041045516976_A_flavus_NRRL_3357 (2651 nucleotides)\r\n",
      ">1041045516977_A_flavus_NRRL_3357 (2315 nucleotides)\r\n",
      ">1041045516978_A_flavus_NRRL_3357 (2015 nucleotides)\r\n",
      ">1041045516979_A_flavus_NRRL_3357 (2414 nucleotides)\r\n",
      ">1041045516980_A_flavus_NRRL_3357 (2972 nucleotides)\r\n",
      ">1041045516981_A_flavus_NRRL_3357 (2723 nucleotides)\r\n",
      ">1041045516982_A_flavus_NRRL_3357 (2499 nucleotides)\r\n",
      ">1041045516983_A_flavus_NRRL_3357 (2036 nucleotides)\r\n",
      ">1041045516984_A_flavus_NRRL_3357 (3070 nucleotides)\r\n",
      ">1041045516985_A_flavus_NRRL_3357 (2746 nucleotides)\r\n",
      ">1041045516986_A_flavus_NRRL_3357 (2038 nucleotides)\r\n",
      ">1041045516987_A_flavus_NRRL_3357 (2144 nucleotides)\r\n",
      ">1041045516988_A_flavus_NRRL_3357 (2629 nucleotides)\r\n",
      ">1041045516989_A_flavus_NRRL_3357 (2235 nucleotides)\r\n",
      ">1041045516990_A_flavus_NRRL_3357 (2225 nucleotides)\r\n",
      ">1041045516991_A_flavus_NRRL_3357 (2085 nucleotides)\r\n",
      ">1041045516992_A_flavus_NRRL_3357 (2299 nucleotides)\r\n",
      ">1041045516994_A_flavus_NRRL_3357 (2270 nucleotides)\r\n",
      ">1041045516995_A_flavus_NRRL_3357 (3321 nucleotides)\r\n",
      ">1041045516996_A_flavus_NRRL_3357 (2606 nucleotides)\r\n",
      ">1041045516998_A_flavus_NRRL_3357 (2147 nucleotides)\r\n",
      ">1041045516999_A_flavus_NRRL_3357 (2128 nucleotides)\r\n",
      ">1041045517000_A_flavus_NRRL_3357 (2141 nucleotides)\r\n",
      ">1041045517001_A_flavus_NRRL_3357 (2286 nucleotides)\r\n",
      ">1041045517003_A_flavus_NRRL_3357 (2165 nucleotides)\r\n",
      ">1041045517004_A_flavus_NRRL_3357 (2302 nucleotides)\r\n",
      ">1041045517006_A_flavus_NRRL_3357 (2456 nucleotides)\r\n",
      ">1041045517007_A_flavus_NRRL_3357 (4592 nucleotides)\r\n",
      ">1041045517008_A_flavus_NRRL_3357 (350524 nucleotides)\r\n",
      ">1041045517009_A_flavus_NRRL_3357 (2713190 nucleotides)\r\n",
      ">1041045517010_A_flavus_NRRL_3357 (2040265 nucleotides)\r\n",
      ">1041045517011_A_flavus_NRRL_3357 (1807303 nucleotides)\r\n",
      ">1041045517012_A_flavus_NRRL_3357 (4149026 nucleotides)\r\n",
      ">1041045517013_A_flavus_NRRL_3357 (3804 nucleotides)\r\n",
      ">1041045517014_A_flavus_NRRL_3357 (2555871 nucleotides)\r\n",
      ">1041045517016_A_flavus_NRRL_3357 (3729 nucleotides)\r\n",
      ">1041045517017_A_flavus_NRRL_3357 (3617 nucleotides)\r\n",
      ">1041045517018_A_flavus_NRRL_3357 (3548 nucleotides)\r\n",
      ">1041045517019_A_flavus_NRRL_3357 (4850 nucleotides)\r\n",
      ">1041045517020_A_flavus_NRRL_3357 (2946 nucleotides)\r\n",
      ">1041045517021_A_flavus_NRRL_3357 (2388123 nucleotides)\r\n",
      ">1041045517022_A_flavus_NRRL_3357 (1793267 nucleotides)\r\n",
      ">1041045517023_A_flavus_NRRL_3357 (2658400 nucleotides)\r\n",
      ">1041045517024_A_flavus_NRRL_3357 (1296066 nucleotides)\r\n",
      ">1041045517025_A_flavus_NRRL_3357 (4469204 nucleotides)\r\n",
      ">1041045517026_A_flavus_NRRL_3357 (1947392 nucleotides)\r\n",
      ">1041045517027_A_flavus_NRRL_3357 (2337902 nucleotides)\r\n",
      ">1041045517028_A_flavus_NRRL_3357 (1872887 nucleotides)\r\n",
      ">1041045517029_A_flavus_NRRL_3357 (2012514 nucleotides)\r\n",
      "\r\n",
      "A_nidulans_FGSC_A4_current_chromosomes.fasta\r\n",
      "9 contigs\r\n",
      "\r\n",
      ">ChrIII_A_nidulans_FGSC_A4 (3470897 nucleotides)\r\n",
      ">ChrII_A_nidulans_FGSC_A4 (4070060 nucleotides)\r\n",
      ">ChrIV_A_nidulans_FGSC_A4 (2887738 nucleotides)\r\n",
      ">ChrI_A_nidulans_FGSC_A4 (3759208 nucleotides)\r\n",
      ">ChrVIII_A_nidulans_FGSC_A4 (4934093 nucleotides)\r\n",
      ">ChrVII_A_nidulans_FGSC_A4 (4550218 nucleotides)\r\n",
      ">ChrVI_A_nidulans_FGSC_A4 (3407944 nucleotides)\r\n",
      ">ChrV_A_nidulans_FGSC_A4 (3403833 nucleotides)\r\n",
      ">mito_A_nidulans_FGSC_A4 (33227 nucleotides)\r\n",
      "\r\n"
     ]
    }
   ],
   "source": [
    "cat output_genomes_fasta_headers.txt"
   ]
  },
  {
   "cell_type": "code",
   "execution_count": null,
   "metadata": {},
   "outputs": [],
   "source": []
  }
 ],
 "metadata": {
  "kernelspec": {
   "display_name": "Python 3",
   "language": "python",
   "name": "python3"
  },
  "language_info": {
   "codemirror_mode": {
    "name": "ipython",
    "version": 3
   },
   "file_extension": ".py",
   "mimetype": "text/x-python",
   "name": "python",
   "nbconvert_exporter": "python",
   "pygments_lexer": "ipython3",
   "version": "3.6.1"
  }
 },
 "nbformat": 4,
 "nbformat_minor": 2
}
