{
 "cells": [
  {
   "cell_type": "markdown",
   "metadata": {},
   "source": [
    "# Challenges - pipes:\n",
    "\n",
    "1. How many times \" ORF|Uncharacterize \" appears on the 2nd column?\n",
    "2. How many times \" pseudogene \" appears appears on the 2nd column?\n",
    "3. Does the 1st column list each gene name (those named 'AN###') only once?\n",
    "4. Which word appears 199 times on the 2nd column?"
   ]
  },
  {
   "cell_type": "markdown",
   "metadata": {},
   "source": [
    "# ANSWERS:"
   ]
  },
  {
   "cell_type": "markdown",
   "metadata": {},
   "source": [
    "### Question 1: How many times \" ORF|Uncharacterized \" appears on the 2nd column?"
   ]
  },
  {
   "cell_type": "code",
   "execution_count": 2,
   "metadata": {},
   "outputs": [
    {
     "name": "stdout",
     "output_type": "stream",
     "text": [
      "9312\r\n"
     ]
    }
   ],
   "source": [
    "cat output_A_nidulans_filtered_features.txt | sed '1,8d' | cut -f 2 | grep -c 'ORF|Uncharacterized'"
   ]
  },
  {
   "cell_type": "markdown",
   "metadata": {},
   "source": [
    "### Question 2: How many times \" pseudogene\" appears on the 2nd column?"
   ]
  },
  {
   "cell_type": "code",
   "execution_count": 4,
   "metadata": {},
   "outputs": [
    {
     "name": "stdout",
     "output_type": "stream",
     "text": [
      "58\r\n"
     ]
    }
   ],
   "source": [
    "cat output_A_nidulans_filtered_features.txt | sed '1,8d' | cut -f 2 | grep -c 'pseudogene'"
   ]
  },
  {
   "cell_type": "markdown",
   "metadata": {},
   "source": [
    "### Question 3: Does the 1st column list each gene name (those named 'AN###') only once?"
   ]
  },
  {
   "cell_type": "code",
   "execution_count": 10,
   "metadata": {},
   "outputs": [
    {
     "name": "stdout",
     "output_type": "stream",
     "text": [
      "10779\n"
     ]
    }
   ],
   "source": [
    "%%bash\n",
    "cat A_nidulans_FGSC_A4_current_chromosomal_feature.tab | sed '1,8d' | cut -f 1 | grep 'AN' -c"
   ]
  },
  {
   "cell_type": "code",
   "execution_count": 9,
   "metadata": {},
   "outputs": [
    {
     "name": "stdout",
     "output_type": "stream",
     "text": [
      "10779\n"
     ]
    }
   ],
   "source": [
    "%%bash\n",
    "cat A_nidulans_FGSC_A4_current_chromosomal_feature.tab | sed '1,8d' | cut -f -1 | sort | uniq | grep 'AN' -c"
   ]
  },
  {
   "cell_type": "markdown",
   "metadata": {},
   "source": [
    "        Why a single and straight 'wc -l ' won't work? \n",
    "        Did you tail? There are genes that do not start with 'AN'."
   ]
  },
  {
   "cell_type": "markdown",
   "metadata": {},
   "source": [
    "### Question 4: Which word appears 199 times on the 2nd column? TIP: check the uniq manual..."
   ]
  },
  {
   "cell_type": "code",
   "execution_count": 12,
   "metadata": {},
   "outputs": [
    {
     "name": "stdout",
     "output_type": "stream",
     "text": [
      " 189 ORF|Merged/Split|Uncharacterized\n",
      "   4 ORF|Merged/Split|Verified\n",
      "9235 ORF|Uncharacterized\n",
      "   1 ORF|Uncharacterized|Merged/Split\n",
      "  49 ORF|Uncharacterized|transposable element gene\n",
      "1209 ORF|Verified\n",
      "   1 multigene locus\n",
      "   1 ncRNA|Uncharacterized\n",
      "   1 ncRNA|Verified\n",
      "  55 pseudogene\n",
      "   2 pseudogene|Verified\n",
      "   1 pseudogene|transposable element gene\n",
      "   2 rRNA|Uncharacterized\n",
      " 199 tRNA|Uncharacterized\n",
      "   9 tRNA|Verified\n",
      "  27 uORF|Uncharacterized\n",
      "   4 uORF|Verified\n"
     ]
    }
   ],
   "source": [
    "%%bash\n",
    "cat output_A_nidulans_filtered_features.txt | sed '1,8d' | cut -f 2 | sort | uniq -c"
   ]
  },
  {
   "cell_type": "markdown",
   "metadata": {},
   "source": [
    "        tRNA|Uncharacterized"
   ]
  },
  {
   "cell_type": "markdown",
   "metadata": {},
   "source": [
    "# Challenge - for loop:\n",
    "\n",
    "Create a for loop that will execute the following on the A_nidulans and A_flavus genomes:\n",
    "\n",
    "1. Print the file name\n",
    "2. Print the number of fasta sequences followed by the word contigs\n",
    "3. Print all the fasta headers"
   ]
  },
  {
   "cell_type": "code",
   "execution_count": null,
   "metadata": {},
   "outputs": [],
   "source": [
    "%%bash\n",
    "for file in A_*.fasta; do echo -n $file ; echo ; a=`grep -c '>' $file`; echo $a contigs; echo ; grep '>' $file; echo ; done"
   ]
  },
  {
   "cell_type": "raw",
   "metadata": {},
   "source": [
    "A_flavus_NRRL_3357_chromosomes.fasta\n",
    "126 contigs\n",
    "\n",
    ">1041045516887_A_flavus_NRRL_3357 (3491 nucleotides)\n",
    ">1041045516889_A_flavus_NRRL_3357 (4170 nucleotides)\n",
    ">1041045516890_A_flavus_NRRL_3357 (20049 nucleotides)\n",
    ">1041045516891_A_flavus_NRRL_3357 (2076547 nucleotides)\n",
    "(...)\n",
    "\n",
    "A_nidulans_FGSC_A4_current_chromosomes.fasta\n",
    "9 contigs\n",
    "\n",
    ">ChrIII_A_nidulans_FGSC_A4 (3470897 nucleotides)\n",
    ">ChrII_A_nidulans_FGSC_A4 (4070060 nucleotides)\n",
    ">ChrIV_A_nidulans_FGSC_A4 (2887738 nucleotides)\n",
    ">ChrI_A_nidulans_FGSC_A4 (3759208 nucleotides)\n",
    ">ChrVIII_A_nidulans_FGSC_A4 (4934093 nucleotides)\n",
    ">ChrVII_A_nidulans_FGSC_A4 (4550218 nucleotides)\n",
    ">ChrVI_A_nidulans_FGSC_A4 (3407944 nucleotides)\n",
    ">ChrV_A_nidulans_FGSC_A4 (3403833 nucleotides)\n",
    ">mito_A_nidulans_FGSC_A4 (33227 nucleotides)"
   ]
  },
  {
   "cell_type": "markdown",
   "metadata": {},
   "source": [
    "# BONUS\n",
    "\n",
    "Redirect output of a for loop:"
   ]
  },
  {
   "cell_type": "code",
   "execution_count": 14,
   "metadata": {},
   "outputs": [],
   "source": [
    "%%bash\n",
    "for file in A_*.fasta; do echo -n $file ; echo ; a=`grep -c '>' $file`; echo $a contigs; echo ; grep '>' $file; echo ; done > output_genomes_fasta_headers.txt"
   ]
  },
  {
   "cell_type": "code",
   "execution_count": 16,
   "metadata": {},
   "outputs": [
    {
     "name": "stdout",
     "output_type": "stream",
     "text": [
      "output_A_nidulans_fasta_headers.txt\r\n",
      "output_A_nidulans_filtered_features.txt\r\n",
      "output_genomes_fasta_headers.txt\r\n"
     ]
    }
   ],
   "source": [
    "ls output*.txt"
   ]
  }
 ],
 "metadata": {
  "kernelspec": {
   "display_name": "Python 3",
   "language": "python",
   "name": "python3"
  },
  "language_info": {
   "codemirror_mode": {
    "name": "ipython",
    "version": 3
   },
   "file_extension": ".py",
   "mimetype": "text/x-python",
   "name": "python",
   "nbconvert_exporter": "python",
   "pygments_lexer": "ipython3",
   "version": "3.6.1"
  }
 },
 "nbformat": 4,
 "nbformat_minor": 2
}
