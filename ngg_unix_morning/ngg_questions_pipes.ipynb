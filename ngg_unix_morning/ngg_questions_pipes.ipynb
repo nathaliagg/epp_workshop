{
 "cells": [
  {
   "cell_type": "markdown",
   "metadata": {},
   "source": [
    "# Challenges - pipes:\n",
    "\n",
    "1. How many times \" ORF|Uncharacterized \" appears on the 2nd column?\n",
    "2. How many times \" pseudogene \" appears appears on the 2nd column?\n",
    "3. Does the 1st column list each gene name (those named 'AN###') only once?\n",
    "4. Which word appears 199 times on the 2nd column?"
   ]
  }
 ],
 "metadata": {
  "kernelspec": {
   "display_name": "Python 3",
   "language": "python",
   "name": "python3"
  },
  "language_info": {
   "codemirror_mode": {
    "name": "ipython",
    "version": 3
   },
   "file_extension": ".py",
   "mimetype": "text/x-python",
   "name": "python",
   "nbconvert_exporter": "python",
   "pygments_lexer": "ipython3",
   "version": "3.6.1"
  }
 },
 "nbformat": 4,
 "nbformat_minor": 2
}
