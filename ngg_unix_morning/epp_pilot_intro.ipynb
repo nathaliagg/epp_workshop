{
 "cells": [
  {
   "cell_type": "markdown",
   "metadata": {},
   "source": [
    "# Morning section\n",
    "\n",
    "### Nathalia\n",
    " \n",
    "1. Recommendations\n",
    "2. BRIEF recap from new user training\n",
    "3. Unix essentials"
   ]
  },
  {
   "cell_type": "markdown",
   "metadata": {},
   "source": [
    "### Resources for new users: "
   ]
  },
  {
   "cell_type": "markdown",
   "metadata": {},
   "source": [
    "There are many resources available for free. Here are some examples:   \n",
    "\n",
    "- The HPCC crew put together this GREAT new user tutorial: https://hpcc.okstate.edu/sites/default/files/Files/tutorial.pdf  and Education Resources: https://hpcc.okstate.edu/content/hpc-education-resources  \n",
    "- Data Carpentry website http://www.datacarpentry.org  \n",
    "- OSU Data Carpentry Workshops (they are free, go take them!)   \n",
    "- DataCamp shell: https://www.learnshell.org  \n",
    "- Unix for begginers: http://www.ee.surrey.ac.uk/Teaching/Unix/  \n",
    "- Unix cheat sheet: https://files.fosswire.com/2007/08/fwunixref.pdf  \n",
    "- 'Awk' cheat sheet for fasta manipulation: https://www.cheatography.com/melissamlwong/cheat-sheets/awk-one-liners-for-fasta-manipulation-version-1-0/  \n",
    "- BioStar forum: https://www.biostars.org  \n",
    "\n",
    "BioStar HandBook: https://www.biostarhandbook.com (paid, but I highly recommend)\n",
    "\n",
    "IF YOU REALLY WANT TO DO BIOINFORMATICS: TAKE A PROGRAMMING COURSE ASAP!   "
   ]
  },
  {
   "cell_type": "markdown",
   "metadata": {},
   "source": [
    "## Keep in mind that:\n",
    "\n",
    "<b>You'll only learn by doing it! So practice, practice, practice... and practice a lot!   \n",
    "There are many ways to do the same thing and achieve the same results.  \n",
    "Treat your scripts as experiments.  \n",
    "Errors are not bad!    \n",
    "And if you don't know, ask Google!</b>"
   ]
  },
  {
   "cell_type": "markdown",
   "metadata": {},
   "source": [
    "## The Cowboy (OSU Supercomputer) is a <b>command-line interface</b>.  "
   ]
  },
  {
   "cell_type": "markdown",
   "metadata": {},
   "source": [
    "### <b> Log in:</b>  \n",
    "\n",
    "Remember from the new user training?! If you are:\n",
    "\n",
    "<b>a Windows user:</b>\n",
    "Download PuTTY from here: https://www.chiark.greenend.org.uk/~sgtatham/putty/, and follow the OSU-HPCC tutorial\n",
    "\n",
    "<b>a Mac user:</b>\n",
    "The bash shell is readily available! Go to your Launchpad, click on Other, and click on Terminal."
   ]
  },
  {
   "cell_type": "markdown",
   "metadata": {},
   "source": [
    "## Are we ready? Let's go!!\n",
    "\n",
    "I heard they are giving away chocolate if you can find a typo (: "
   ]
  }
 ],
 "metadata": {
  "kernelspec": {
   "display_name": "Python 3",
   "language": "python",
   "name": "python3"
  },
  "language_info": {
   "codemirror_mode": {
    "name": "ipython",
    "version": 3
   },
   "file_extension": ".py",
   "mimetype": "text/x-python",
   "name": "python",
   "nbconvert_exporter": "python",
   "pygments_lexer": "ipython3",
   "version": "3.6.4"
  }
 },
 "nbformat": 4,
 "nbformat_minor": 2
}
