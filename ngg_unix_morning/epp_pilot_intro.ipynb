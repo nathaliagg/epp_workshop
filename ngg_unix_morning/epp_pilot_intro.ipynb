{
 "cells": [
  {
   "cell_type": "markdown",
   "metadata": {},
   "source": [
    "# Morning section\n",
    "\n",
    "### Nathalia\n",
    " \n",
    "1. Overview of Cowboy Supercomputer\n",
    "2. Log in\n",
    "3. Basic unix"
   ]
  },
  {
   "cell_type": "markdown",
   "metadata": {},
   "source": [
    "### Resources for new users: "
   ]
  },
  {
   "cell_type": "markdown",
   "metadata": {},
   "source": [
    "There are many resources available for free. Here are some examples:   \n",
    "\n",
    "- The HPCC crew put together this GREAT new user tutorial: https://hpcc.okstate.edu/sites/default/files/Files/tutorial.pdf  and Education Resources: https://hpcc.okstate.edu/content/hpc-education-resources  \n",
    "- Data Carpentry website http://www.datacarpentry.org  \n",
    "- OSU Data Carpentry Workshops (they are free, go take them!)   \n",
    "- DataCamp shell: https://www.learnshell.org  \n",
    "- Unix for begginers: http://www.ee.surrey.ac.uk/Teaching/Unix/  \n",
    "- Unix cheat sheet: https://files.fosswire.com/2007/08/fwunixref.pdf  \n",
    "- 'Awk' cheat sheet for fasta manipulation: https://www.cheatography.com/melissamlwong/cheat-sheets/awk-one-liners-for-fasta-manipulation-version-1-0/  \n",
    "- BioStar forum: https://www.biostars.org  \n",
    "\n",
    "BioStar HandBook: https://www.biostarhandbook.com (paid, but I highly recommend)\n",
    "\n",
    "IF YOU REALLY WANT TO DO BIOINFORMATICS: TAKE A PROGRAMMING COURSE ASAP!   "
   ]
  },
  {
   "cell_type": "markdown",
   "metadata": {},
   "source": [
    "<b>From BioStars class by Dr. Istvan Albert:</b>\n",
    "    \n",
    "    Complexity vs Decision Making\n",
    "        1. Bioinformatics analyses require a very large number of very simple decisions.  \n",
    "        2. How you choose to order the steps can make a lot of difference. \n",
    "        3. There are no absolute rules, only guidelines. \n",
    "        4. You can learn to improvise and adapt. \n",
    "        5. Do not be afraid to make decisions. \n",
    "        6. Bioinformatics need creativity. \n",
    "        7. Protocols are guidelines and do not guarantee success.\n",
    "        \n",
    "    Procedural tasks: performing a procedure in a sequence of steps/activities.    \n",
    "    Tools change, concepts don't."
   ]
  },
  {
   "cell_type": "markdown",
   "metadata": {},
   "source": [
    "## Keep in mind that:\n",
    "\n",
    "<b>You'll only learn by doing it! So practice, practice, practice... and practice a lot!   \n",
    "There are many ways to do the same thing and achieve the same results.  \n",
    "Errors are not bad!    \n",
    "And if you don't know, ask Google!</b>"
   ]
  },
  {
   "cell_type": "markdown",
   "metadata": {},
   "source": [
    "## The Cowboy (OSU Supercomputer) is a <b>command-line interface</b>.  "
   ]
  },
  {
   "cell_type": "markdown",
   "metadata": {},
   "source": [
    "### <b> Log in:</b>  \n",
    "\n",
    "Remember from sotfware set up?! If you are:\n",
    "\n",
    "<b>Windows users:</b>\n",
    "Download PuTTY from here: https://www.chiark.greenend.org.uk/~sgtatham/putty/, and follow the OSU-HPCC tutorial\n",
    "\n",
    "<b>Mac users:</b>\n",
    "The bash shell is readily available! Go to your Launchpad, click on Other, and click on Terminal."
   ]
  },
  {
   "cell_type": "markdown",
   "metadata": {},
   "source": [
    "### <b> Introduction:</b>\n",
    "\n",
    "How does the command line works?   You type action words and the computer executes it.\n",
    "\n",
    "Terminal or bash shell is an interpreter and does two main things: \n",
    "1. allows you to interact with the computer = runs programs, move/view/edit files, etc \n",
    "2. allows you to see the output "
   ]
  },
  {
   "cell_type": "markdown",
   "metadata": {},
   "source": [
    "#print out of the terminal window"
   ]
  },
  {
   "cell_type": "markdown",
   "metadata": {},
   "source": [
    "Prompt <b>$</b> or <b>%</b> indicates command-line = waiting for command\n",
    "\n",
    "Filesystem is a term that describes how data in arranged on a computer. It's made out of directories and files. Directory = folder.\n",
    "\n",
    "Directories and files have an \"address\", which is called <b>path</b>. \n",
    "\n",
    "Types of paths:\n",
    "\n",
    "1.Absolute path starts with '/' that indicate it starts from the root directory (\"where it all begins\")\n",
    "\n",
    "<i>/Users/grachetng/Desktop/PhD documents/Proposal/proposal.docx</i>\n",
    "\n",
    "2.Relative path is relative to our current working directory (\"from this point forward\")\n",
    "\n",
    "<i>PhD documents/Proposal/proposal.docx</i>"
   ]
  },
  {
   "cell_type": "markdown",
   "metadata": {},
   "source": [
    "#printout HPCC"
   ]
  },
  {
   "cell_type": "markdown",
   "metadata": {},
   "source": [
    "Each user has 2 private directories: /home and /scratch. Nothing backed up!  \n",
    "Your /home has 25Gb storage quota. The home directory is also written as ~  \n",
    "Your /scratch is for large files, space is \"unlimited\" and shared.  \n",
    "The /opt is a shared directory that contains the applications (aka programs).  \n",
    "\n",
    "\n",
    "When you log in, you are automatically in your /home and you are located in one of the login nodes.   \n",
    "This morning, we'll be located in the login nodes. In the login nodes, you only can edit and manipulate files and scripts. If you want to run a job or a script, you must use the batch scheduler command.\n",
    "\n",
    "This afternoon, we'll submit a job through the scheduler. The batch scheduler receives your job, then puts it in the queue to be executed in a computer node. Once your job finishes, the scheduler sends the resultss back to your log in folder. "
   ]
  },
  {
   "cell_type": "markdown",
   "metadata": {},
   "source": [
    "## Are we ready? Let's go!!\n",
    "\n",
    "I heard they are giving away chocolate if you can find a typo (: "
   ]
  }
 ],
 "metadata": {
  "kernelspec": {
   "display_name": "Python 3",
   "language": "python",
   "name": "python3"
  },
  "language_info": {
   "codemirror_mode": {
    "name": "ipython",
    "version": 3
   },
   "file_extension": ".py",
   "mimetype": "text/x-python",
   "name": "python",
   "nbconvert_exporter": "python",
   "pygments_lexer": "ipython3",
   "version": "3.6.1"
  }
 },
 "nbformat": 4,
 "nbformat_minor": 2
}
