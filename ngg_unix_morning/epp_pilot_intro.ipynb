{
 "cells": [
  {
   "cell_type": "markdown",
   "metadata": {},
   "source": [
    "# EPP Workshop\n",
    "\n",
    "# Introduction to Programming, for beginners\n",
    "\n",
    "### Organized by EPPGSA  \n",
    "### Lectures by Andres Espindola & Nathalia Grachet  \n",
    "\n",
    "Saturday, March 17th, location TBD  \n",
    "Software set-up: day & time TBD\n",
    "\n",
    "Schedule:  \n",
    "9AM-12PM - Morning section - Introduction to Cowboy, basic unix (Nathalia)  \n",
    "12PM-1PM - LUNCH  \n",
    "1PM-4PM - Afternoon section - Basic scripting, hands-on real-world examples for biologists (Andres)  \n",
    "\n",
    "You'll learn how to:\n",
    "1. Look up resources to troubleshoot/improve your programming skills\n",
    "2. Use command-line to organize, modify, analyze data\n",
    "3. Write basic scripts to develop tasks in the Cowboy (OSU High Performance Computer)"
   ]
  },
  {
   "cell_type": "markdown",
   "metadata": {},
   "source": [
    "# Morning section"
   ]
  },
  {
   "cell_type": "markdown",
   "metadata": {},
   "source": [
    "## <b>How to get started with bioinformatics?</b>\n",
    "1. Graphical user interfaces (GUI)\n",
    "2. Command-line interfaces"
   ]
  },
  {
   "cell_type": "markdown",
   "metadata": {},
   "source": [
    "<b>1. GUI</b> are a great way to get started with bioinformatics without programming. \n",
    "\n",
    "Check out: CyVerse (http://www.cyverse.org/discovery-environment) and Galaxy (https://usegalaxy.org). You press buttons, and the computer does the programming (in the background) for you!!"
   ]
  },
  {
   "cell_type": "markdown",
   "metadata": {},
   "source": [
    "<b>2. Command-line interfaces</b> \n",
    "\n",
    "The OSU HPCC (Cowboy) is a command-line interface. They have a GREAT new user tutorial: https://hpcc.okstate.edu/sites/default/files/Files/tutorial.pdf\n",
    "\n",
    "You have to do the programming here. But don't you worry, it is SUPER easy!"
   ]
  },
  {
   "cell_type": "markdown",
   "metadata": {},
   "source": [
    "There are many resources available for free. Here are some examples:\n",
    "1. Data Carpentry website http://www.datacarpentry.org  and OSU Data Carpentry Workshops \n",
    "2. DataCamp shell: https://www.learnshell.org\n",
    "3. Unix for begginers: http://www.ee.surrey.ac.uk/Teaching/Unix/\n",
    "4. Unix cheat sheet: https://files.fosswire.com/2007/08/fwunixref.pdf\n",
    "5. 'Awk' cheat sheet for fasta manipulation: https://www.cheatography.com/melissamlwong/cheat-sheets/awk-one-liners-for-fasta-manipulation-version-1-0/\n",
    "6. BioStar forum: https://www.biostars.org\n",
    "\n",
    "If you would like to be an bioinformatician, I highly recommend the BioStar HandBook. This is a paid resource of an extensive bioinformatics book and online class: https://www.biostarhandbook.com"
   ]
  },
  {
   "cell_type": "markdown",
   "metadata": {},
   "source": [
    "<b>From BioStars class by Dr. Istvan Albert:</b>\n",
    "    \n",
    "    Complexity vs Decision Making\n",
    "        1. Bioinformatics analyses require a very large number of very simple decisions.  \n",
    "        2. How you choose to order the steps can make a lot of difference. \n",
    "        3. There are no absolute rules, only guidelines. \n",
    "        4. You can learn to improvise and adapt. \n",
    "        5. Do not be afraid to make decisions. \n",
    "        6. Bioinformatics need creativity. \n",
    "        7. Protocols are guidelines and do not guarantee success.\n",
    "        \n",
    "    Procedural tasks: performing a procedure in a sequence of steps/activities.  Tools change, concepts don't."
   ]
  },
  {
   "cell_type": "markdown",
   "metadata": {},
   "source": [
    "## Keep in mind that:\n",
    "\n",
    "<b>You'll only learn by doing it! So practice, practice, practice... and practice a lot!   \n",
    "There are many ways to do the same thing and achieve the same results.  \n",
    "Errors are not bad!    \n",
    "And if you don't know, ask Google!</b>"
   ]
  },
  {
   "cell_type": "markdown",
   "metadata": {},
   "source": [
    "## Unix command-line"
   ]
  },
  {
   "cell_type": "markdown",
   "metadata": {},
   "source": [
    "<b> Introduction:</b>\n",
    "\n",
    "How does the command line works?    You type action words and the computer executes it.\n",
    "\n",
    "\n",
    "Terminal or bash shell is an interpreter and does two main things: \n",
    "1. allows you to interact with the computer = runs programs, move/view/edit files, etc \n",
    "2. allows you to see the output \n",
    "\n",
    "\n",
    "Prompt <b>$</b> or <b>%</b> indicates command-line = waiting for command\n",
    "\n",
    "\n",
    "Filesystem is a term that describes how data in arranged on a computer. It's made out of directories and files. Directory = folder.\n",
    "\n",
    "\n",
    "Directories and files have an \"address\", which is called <b>path</b>. \n",
    "\n",
    "<i>For example, I have my proposal document in a folder called 'Proposal', which is inside another folder called 'PhD documents' in my Desktop. If I want to open my proposal, from my desktop I click on the folder 'PhD documents', then click on the folder Proposal, and finally I see my proposal document. Therefore, the path to my proposal document is: PhD documents/Proposal/proposal.docx </i>\n",
    "\n",
    "Types of paths:\n",
    "\n",
    "1.Absolute path starts with '/' that indicate it starts from the root directory (\"where it all begins\")\n",
    "\n",
    "<i>/Users/grachetng/Desktop/PhD documents/Proposal/proposal.docx</i>\n",
    "\n",
    "2.Relative path is relative to our current working directory (\"from this point forward\")\n",
    "\n",
    "<i>PhD documents/Proposal/proposal.docx</i>\n",
    "\n",
    "\n"
   ]
  },
  {
   "cell_type": "markdown",
   "metadata": {},
   "source": [
    "## We need to open that shell thingy you were talking about...\n",
    "\n",
    "<b>Windows users:</b>\n",
    "Download PuTTY from here: https://www.chiark.greenend.org.uk/~sgtatham/putty/, and follow the OSU-HPCC tutorial\n",
    "\n",
    "<b>Mac users:</b>\n",
    "The bash shell is readily available! Go to your Launchpad, click on Other, and click on Terminal.\n",
    "\n",
    "... Life is much easier on a Mac (:"
   ]
  },
  {
   "cell_type": "markdown",
   "metadata": {},
   "source": [
    "## Are we ready? Let's go!!\n",
    "\n",
    "I heard they are giving away chocolate if you can find a typo (: "
   ]
  }
 ],
 "metadata": {
  "kernelspec": {
   "display_name": "Python 3",
   "language": "python",
   "name": "python3"
  },
  "language_info": {
   "codemirror_mode": {
    "name": "ipython",
    "version": 3
   },
   "file_extension": ".py",
   "mimetype": "text/x-python",
   "name": "python",
   "nbconvert_exporter": "python",
   "pygments_lexer": "ipython3",
   "version": "3.6.3"
  }
 },
 "nbformat": 4,
 "nbformat_minor": 2
}
