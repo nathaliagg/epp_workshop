{
 "cells": [
  {
   "cell_type": "markdown",
   "metadata": {},
   "source": [
    "# Challenge - for loop:\n",
    "\n",
    "Create a for loop that will execute the following on the A_nidulans and A_flavus genomes:\n",
    "\n",
    "1. Print the file name\n",
    "2. Print the number of fasta sequences followed by the word contigs\n",
    "3. Print all the fasta headers"
   ]
  }
 ],
 "metadata": {
  "kernelspec": {
   "display_name": "Python 3",
   "language": "python",
   "name": "python3"
  },
  "language_info": {
   "codemirror_mode": {
    "name": "ipython",
    "version": 3
   },
   "file_extension": ".py",
   "mimetype": "text/x-python",
   "name": "python",
   "nbconvert_exporter": "python",
   "pygments_lexer": "ipython3",
   "version": "3.6.1"
  }
 },
 "nbformat": 4,
 "nbformat_minor": 2
}
