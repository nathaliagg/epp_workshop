{
 "cells": [
  {
   "cell_type": "markdown",
   "metadata": {},
   "source": [
    "# Challenge - for loop:\n",
    "\n",
    "Create a for loop that will execute the following on the A_nidulans and A_flavus genomes:\n",
    "\n",
    "1. Print the file name\n",
    "2. Print the number of fasta sequences followed by the word contigs in the same line\n",
    "3. Print all the fasta headers"
   ]
  },
  {
   "cell_type": "markdown",
   "metadata": {},
   "source": [
    "Here is the answer:"
   ]
  },
  {
   "cell_type": "raw",
   "metadata": {},
   "source": [
    "A_flavus_NRRL_3357_chromosomes.fasta\n",
    "126 contigs\n",
    "\n",
    ">1041045516887_A_flavus_NRRL_3357 (3491 nucleotides)\n",
    ">1041045516889_A_flavus_NRRL_3357 (4170 nucleotides)\n",
    ">1041045516890_A_flavus_NRRL_3357 (20049 nucleotides)\n",
    ">1041045516891_A_flavus_NRRL_3357 (2076547 nucleotides)\n",
    "...\n",
    "\n",
    "A_nidulans_FGSC_A4_current_chromosomes.fasta\n",
    "9 contigs\n",
    "\n",
    ">ChrIII_A_nidulans_FGSC_A4 (3470897 nucleotides)\n",
    ">ChrII_A_nidulans_FGSC_A4 (4070060 nucleotides)\n",
    ">ChrIV_A_nidulans_FGSC_A4 (2887738 nucleotides)\n",
    ">ChrI_A_nidulans_FGSC_A4 (3759208 nucleotides)\n",
    ">ChrVIII_A_nidulans_FGSC_A4 (4934093 nucleotides)\n",
    ">ChrVII_A_nidulans_FGSC_A4 (4550218 nucleotides)\n",
    ">ChrVI_A_nidulans_FGSC_A4 (3407944 nucleotides)\n",
    ">ChrV_A_nidulans_FGSC_A4 (3403833 nucleotides)\n",
    ">mito_A_nidulans_FGSC_A4 (33227 nucleotides)"
   ]
  }
 ],
 "metadata": {
  "kernelspec": {
   "display_name": "Python 3",
   "language": "python",
   "name": "python3"
  },
  "language_info": {
   "codemirror_mode": {
    "name": "ipython",
    "version": 3
   },
   "file_extension": ".py",
   "mimetype": "text/x-python",
   "name": "python",
   "nbconvert_exporter": "python",
   "pygments_lexer": "ipython3",
   "version": "3.6.1"
  }
 },
 "nbformat": 4,
 "nbformat_minor": 2
}
